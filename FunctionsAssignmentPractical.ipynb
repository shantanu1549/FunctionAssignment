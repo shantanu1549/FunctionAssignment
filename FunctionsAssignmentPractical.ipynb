{
  "nbformat": 4,
  "nbformat_minor": 0,
  "metadata": {
    "colab": {
      "provenance": []
    },
    "kernelspec": {
      "name": "python3",
      "display_name": "Python 3"
    },
    "language_info": {
      "name": "python"
    }
  },
  "cells": [
    {
      "cell_type": "code",
      "execution_count": null,
      "metadata": {
        "colab": {
          "base_uri": "https://localhost:8080/"
        },
        "id": "rgxnq8VyTzjZ",
        "outputId": "1c08df4f-86e4-4211-9c00-61bd7f32928f"
      },
      "outputs": [
        {
          "output_type": "stream",
          "name": "stdout",
          "text": [
            "Enter the number of elements: 5\n",
            "1\n",
            "3\n",
            "5\n",
            "7\n",
            "9\n",
            "The sum of even numbers from the list is :  0\n"
          ]
        }
      ],
      "source": [
        "#1. Write a Python function that takes a list of numbers as input and returns the sum of all even numbers in the list.\n",
        "\n",
        "def sum_even(n):\n",
        "  sum = 0\n",
        "  for i in n:\n",
        "    if i%2==0:\n",
        "      sum+=i\n",
        "  return sum\n",
        "\n",
        "l = []\n",
        "num = int(input(\"Enter the number of elements: \"))\n",
        "for i in range(num):\n",
        "  l.append(int(input()))\n",
        "print(\"The sum of even numbers from the list is : \" ,sum_even(l))"
      ]
    },
    {
      "cell_type": "code",
      "source": [
        "#2. Create a Python function that accepts a string and returns the reverse of that string.\n",
        "\n",
        "def reverse_string(s):\n",
        "  return s[::-1]\n",
        "\n",
        "s = input(\"Enter the string: \")\n",
        "print(\"The reverse of the string is : \" ,reverse_string(s))"
      ],
      "metadata": {
        "colab": {
          "base_uri": "https://localhost:8080/"
        },
        "id": "9I1LeYlPU88e",
        "outputId": "eb049291-813f-430e-b976-1e7aa07bcf8a"
      },
      "execution_count": null,
      "outputs": [
        {
          "output_type": "stream",
          "name": "stdout",
          "text": [
            "Enter the string: Shantanu\n",
            "The reverse of the string is :  unatnahS\n"
          ]
        }
      ]
    },
    {
      "cell_type": "code",
      "source": [
        "#3. Implement a Python function that takes a list of integers and returns a new list containing the squares of each number.\n",
        "\n",
        "def square(l):\n",
        "  for i in range(len(l)):\n",
        "    l[i] = l[i]**2\n",
        "  return l\n",
        "\n",
        "l = []\n",
        "num = int(input(\"Enter the number of elements: \"))\n",
        "for i in range(num):\n",
        "  l.append(int(input()))\n",
        "print(\"The list of squares of the numbers is : \" ,square(l))\n"
      ],
      "metadata": {
        "colab": {
          "base_uri": "https://localhost:8080/"
        },
        "id": "k0xNfjqGVK1P",
        "outputId": "dd6d6e78-f292-4918-df6d-4615e68e3872"
      },
      "execution_count": null,
      "outputs": [
        {
          "output_type": "stream",
          "name": "stdout",
          "text": [
            "Enter the number of elements: 5\n",
            "2\n",
            "4\n",
            "6\n",
            "8\n",
            "10\n",
            "The list of squares of the numbers is :  [4, 16, 36, 64, 100]\n"
          ]
        }
      ]
    },
    {
      "cell_type": "code",
      "source": [
        "#4. Write a Python function that checks if a given number is prime or not from 1 to 200.\n",
        "\n",
        "def prime(n):\n",
        "  for i in range(2,n):\n",
        "    if n%i==0:\n",
        "      return False\n",
        "  return True\n",
        "\n",
        "n = int(input(\"Enter the number in between 1 and 200 : \"))\n",
        "if prime(n):\n",
        "  print(\"The number is prime\")\n",
        "else:\n",
        "  print(\"The number is not prime\")"
      ],
      "metadata": {
        "colab": {
          "base_uri": "https://localhost:8080/"
        },
        "id": "EgyCtknMVgt6",
        "outputId": "b453d668-6336-4cd2-b553-090d3ad1d302"
      },
      "execution_count": null,
      "outputs": [
        {
          "output_type": "stream",
          "name": "stdout",
          "text": [
            "Enter the number in between 1 and 200 : 17\n",
            "The number is prime\n"
          ]
        }
      ]
    },
    {
      "cell_type": "code",
      "source": [
        "#5. Create an iterator class in Python that generates the Fibonacci sequence up to a specified number of terms.\n",
        "\n",
        "class Fibonacci:\n",
        "  def __init__(self,n):\n",
        "    self.n = n\n",
        "    self.a = 0\n",
        "    self.b = 1\n",
        "    self.count = 0\n",
        "\n",
        "  def __iter__(self):\n",
        "    return self\n",
        "\n",
        "  def __next__(self):\n",
        "    if self.count < self.n:\n",
        "      fib = self.a\n",
        "      self.a,self.b = self.b,self.a+self.b\n",
        "      self.count += 1\n",
        "      return fib\n",
        "\n",
        "    else:\n",
        "      raise StopIteration\n",
        "\n",
        "n = int(input(\"Enter the number of terms: \"))\n",
        "fib = Fibonacci(n)\n",
        "for i in fib:\n",
        "  print(i)\n",
        "\n"
      ],
      "metadata": {
        "colab": {
          "base_uri": "https://localhost:8080/"
        },
        "id": "KHShJti8WBAT",
        "outputId": "6b4ee32d-8049-4836-bc70-dda81072f9f0"
      },
      "execution_count": null,
      "outputs": [
        {
          "output_type": "stream",
          "name": "stdout",
          "text": [
            "Enter the number of terms: 10\n",
            "0\n",
            "1\n",
            "1\n",
            "2\n",
            "3\n",
            "5\n",
            "8\n",
            "13\n",
            "21\n",
            "34\n"
          ]
        }
      ]
    },
    {
      "cell_type": "code",
      "source": [
        "#6. Write a generator function in Python that yields the powers of 2 up to a given exponent.\n",
        "\n",
        "def power_of_2(n):\n",
        "  for i in range(n+1):\n",
        "    yield 2**i\n",
        "\n",
        "n = int(input(\"Enter the exponent: \"))\n",
        "for i in power_of_2(n):\n",
        "  print(i)\n"
      ],
      "metadata": {
        "colab": {
          "base_uri": "https://localhost:8080/"
        },
        "id": "PauYyGYDYXn6",
        "outputId": "48204e24-42f1-4e08-ce7c-f6fbccfbb9b3"
      },
      "execution_count": null,
      "outputs": [
        {
          "output_type": "stream",
          "name": "stdout",
          "text": [
            "Enter the exponent: 10\n",
            "1\n",
            "2\n",
            "4\n",
            "8\n",
            "16\n",
            "32\n",
            "64\n",
            "128\n",
            "256\n",
            "512\n",
            "1024\n"
          ]
        }
      ]
    },
    {
      "cell_type": "code",
      "source": [
        "#7. Implement a generator function that reads a file line by line and yields each line as a string.\n",
        "\n",
        "def read_file(filename):\n",
        "\n",
        "  with open('/content/sample.rtf', 'r') as file:\n",
        "    for line in file:\n",
        "      yield line.rstrip()\n",
        "\n",
        "for line in read_file('/content/sample.rtf'):\n",
        "  print(line)"
      ],
      "metadata": {
        "colab": {
          "base_uri": "https://localhost:8080/"
        },
        "collapsed": true,
        "id": "j0FDySUzYgf4",
        "outputId": "ad158414-ecd0-46a3-f467-e5f7d3f37938"
      },
      "execution_count": null,
      "outputs": [
        {
          "output_type": "stream",
          "name": "stdout",
          "text": [
            "{\\rtf1\\ansi\\ansicpg1252\\cocoartf2761\n",
            "\\cocoatextscaling0\\cocoaplatform0{\\fonttbl\\f0\\fswiss\\fcharset0 Helvetica;}\n",
            "{\\colortbl;\\red255\\green255\\blue255;}\n",
            "{\\*\\expandedcolortbl;;}\n",
            "\\paperw11900\\paperh16840\\margl1440\\margr1440\\vieww11520\\viewh8400\\viewkind0\n",
            "\\pard\\tx720\\tx1440\\tx2160\\tx2880\\tx3600\\tx4320\\tx5040\\tx5760\\tx6480\\tx7200\\tx7920\\tx8640\\pardirnatural\\partightenfactor0\n",
            "\n",
            "\\f0\\fs24 \\cf0 Python is the best programming language for beginners.\\\n",
            "I am learning python from PWSkills.\\\n",
            "I am enrolled in data science course.}\n"
          ]
        }
      ]
    },
    {
      "cell_type": "code",
      "source": [
        "#8. Use a lambda function in Python to sort a list of tuples based on the second element of each tuple.\n",
        "\n",
        "l = [(15,49),(4,81),(17,71),(9,21)]\n",
        "l.sort(key = lambda x:x[1])\n",
        "print(l)"
      ],
      "metadata": {
        "colab": {
          "base_uri": "https://localhost:8080/"
        },
        "id": "QIycB4IgY1p6",
        "outputId": "94125d0c-3c05-4a68-d26d-62e5f93f6067"
      },
      "execution_count": null,
      "outputs": [
        {
          "output_type": "stream",
          "name": "stdout",
          "text": [
            "[(9, 21), (15, 49), (17, 71), (4, 81)]\n"
          ]
        }
      ]
    },
    {
      "cell_type": "code",
      "source": [
        "#9. Write a Python program that uses `map()` to convert a list of temperatures from Celsius to Fahrenheit.\n",
        "\n",
        "celsius_temp = []\n",
        "num = int(input(\"Enter the number of input : \"))\n",
        "for i in range(num):\n",
        "  celsius_temp.append(int(input()))\n",
        "\n",
        "def convert(celsius):\n",
        "    return (celsius * 9/5) + 32\n",
        "\n",
        "fahrenheit_temp = list(map(convert, celsius_temp))\n",
        "\n",
        "print(\"Celsius Temperatures : \", celsius_temp)\n",
        "print(\"Fahrenheit Temperatures : \", fahrenheit_temp)\n"
      ],
      "metadata": {
        "colab": {
          "base_uri": "https://localhost:8080/"
        },
        "id": "wniS5OnCZXDx",
        "outputId": "85bcbf0f-9f62-40cf-89b9-01ff80d6fe3c"
      },
      "execution_count": null,
      "outputs": [
        {
          "output_type": "stream",
          "name": "stdout",
          "text": [
            "Enter the number of input : 4\n",
            "0\n",
            "25\n",
            "37\n",
            "100\n",
            "Celsius Temperatures :  [0, 25, 37, 100]\n",
            "Fahrenheit Temperatures :  [32.0, 77.0, 98.6, 212.0]\n"
          ]
        }
      ]
    },
    {
      "cell_type": "code",
      "source": [
        "#10. Create a Python program that uses `filter()` to remove all the vowels from a given string.\n",
        "\n",
        "s = input(\"Enter a String : \")\n",
        "\n",
        "vow = \"aeiouAEIOU\"\n",
        "\n",
        "s1 = filter(lambda char: char not in vow, s)\n",
        "s1 = \"\".join(s1)\n",
        "\n",
        "print(\"Original String:\", s)\n",
        "print(\"String without vowels:\", s1)"
      ],
      "metadata": {
        "colab": {
          "base_uri": "https://localhost:8080/"
        },
        "id": "y4PDYUsBaoGI",
        "outputId": "277cc37b-7eff-40a6-cfc4-16ce17911e51"
      },
      "execution_count": null,
      "outputs": [
        {
          "output_type": "stream",
          "name": "stdout",
          "text": [
            "Enter a String : Shantanu\n",
            "Original String: Shantanu\n",
            "String without vowels: Shntn\n"
          ]
        }
      ]
    },
    {
      "cell_type": "code",
      "source": [
        "#11. Imagine an accounting routine used in a book shop. It works on a list with sublists, which look like this.\n",
        "#Write a Python program, which returns a list with 2-tuples. Each tuple consists of the order number and the product of the price per item and the quantity.\n",
        "#The product should be increased by 10,- € if the value of the order is smaller than 100,00 €.\n",
        "#Write a Python program using lambda and map.\n",
        "\n",
        "orders = [\n",
        "    [34587, \"Learning Python, Mark Lutz\", 4, 40.95],\n",
        "    [98762, \"Programming Python, Mark Lutz\", 5, 56.80],\n",
        "    [77226, \"Head First Python, Paul Barry\", 3, 32.95],\n",
        "    [88112, \"Einführung in Python3, Bernd Klein\", 3, 24.99]\n",
        "]\n",
        "\n",
        "process_order = lambda order: (\n",
        "    order[0], order[2] * order[3] + (10 if order[2] * order[3] < 100 else 0)\n",
        ")\n",
        "\n",
        "processed_orders = list(map(process_order, orders))\n",
        "\n",
        "print(processed_orders)\n"
      ],
      "metadata": {
        "colab": {
          "base_uri": "https://localhost:8080/"
        },
        "id": "kJD5P6-qbayR",
        "outputId": "0cc36895-ff3f-482c-c461-b7231ea7b887"
      },
      "execution_count": null,
      "outputs": [
        {
          "output_type": "stream",
          "name": "stdout",
          "text": [
            "[(34587, 163.8), (98762, 284.0), (77226, 108.85000000000001), (88112, 84.97)]\n"
          ]
        }
      ]
    }
  ]
}